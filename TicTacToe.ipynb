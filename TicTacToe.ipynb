{
 "cells": [
  {
   "cell_type": "markdown",
   "id": "aa4e4666",
   "metadata": {},
   "source": [
    "## Using Q-learning to train an AI for tic tac toe\n",
    "\n",
    "We implement a basic reinforced learning algorithm, specifically Q-learning, to teach an AI to play tic tac toe. Being not the first one to ever do this, I would like to give credit to Heiko Hotz (https://github.com/heiko-hotz/tictactoe-q?tab=readme-ov-file), where I gained some inspiration for this, and started my journey of learning about Q-learning. Additionally, for the interactive game one can play against the AI, I got some inspiration from the Bro Code YouTube channel (https://www.youtube.com/watch?v=V9MbQ2Xl4CE).\n",
    "\n",
    "In the included Python files, I include a training function, which trains the AI based on certain parameter values we can set manually: the number of games to train on, the learning rate, the discount factor, and the explore rate, as well as its minimum value and decay rate.\n",
    "\n",
    "Additionally, the training file contains a test function, which lets two AIs play against one another based on their respective Q-tables (or randomly if None).\n",
    "\n",
    "Finally, the interactive play file contains the code for launching an interactive game against an AI opponent. \n",
    "\n",
    "We represent our board as a 3x3 grid by using a 2D list, so the coordinates of the nine squares are (0, 0), (0, 1), (0, 2), (1, 0), ..., (2, 2), from left to right and top to bottom."
   ]
  },
  {
   "cell_type": "code",
   "execution_count": 2,
   "id": "1a61e32e",
   "metadata": {},
   "outputs": [],
   "source": [
    "from training import *\n",
    "import csv"
   ]
  },
  {
   "cell_type": "markdown",
   "id": "77c1c8ef",
   "metadata": {},
   "source": [
    "### Training"
   ]
  },
  {
   "cell_type": "code",
   "execution_count": null,
   "id": "31b6e8e3",
   "metadata": {},
   "outputs": [],
   "source": [
    "Q_table = train(number_games=int(1e7), learning_rate=0.2, discount_factor=0.9, explore_rate=1.0,\n",
    "explore_rate_min=0.01, explore_rate_decay=0.999, player1_table=None, player2_table=None)"
   ]
  },
  {
   "cell_type": "code",
   "execution_count": null,
   "id": "e8c18bcd",
   "metadata": {},
   "outputs": [
    {
     "name": "stdout",
     "output_type": "stream",
     "text": [
      "Q-table saved to TTT_q_table.csv\n"
     ]
    }
   ],
   "source": [
    "#Save the q-table to a csv file\n",
    "with open('q_table.csv', 'w', newline='') as file:\n",
    "    writer = csv.writer(file)\n",
    "    for board, values in Q_table.items():\n",
    "        writer.writerow([board] + [values])\n",
    "\n",
    "print(\"Q-table saved to q_table.csv\")"
   ]
  },
  {
   "cell_type": "markdown",
   "id": "71b4cfed",
   "metadata": {},
   "source": [
    "### Testing"
   ]
  },
  {
   "cell_type": "code",
   "execution_count": 7,
   "id": "f5f4c8fc",
   "metadata": {},
   "outputs": [],
   "source": [
    "# Open the saved q-table\n",
    "Q_table = {}\n",
    "with (open('q_table.csv', 'r') as file):\n",
    "    reader = csv.reader(file)\n",
    "    for row in reader:\n",
    "        board = row[0]\n",
    "        values = eval(row[1])\n",
    "        Q_table[board] = values"
   ]
  },
  {
   "cell_type": "code",
   "execution_count": 8,
   "id": "5cdccb93",
   "metadata": {},
   "outputs": [],
   "source": [
    "# The trained AI plays a random opponent\n",
    "wins, draws, losses = test(number_games=int(1e5), player1_table=Q_table, player2_table=None)"
   ]
  },
  {
   "cell_type": "code",
   "execution_count": 9,
   "id": "4769c3f1",
   "metadata": {},
   "outputs": [
    {
     "name": "stdout",
     "output_type": "stream",
     "text": [
      "Wins against random opponent: 95552\n",
      "Draws against random opponent: 4347\n",
      "Losses against random opponent: 101\n"
     ]
    }
   ],
   "source": [
    "print('Wins against random opponent: %d' %wins)\n",
    "print('Draws against random opponent: %d' %draws)\n",
    "print('Losses against random opponent: %d' %losses)"
   ]
  },
  {
   "cell_type": "markdown",
   "id": "0e7b37d5",
   "metadata": {},
   "source": [
    "As a reality check, let's see what happens when we test two random opponents, the trained AI as player 2, and two trained AIs against each other. Note that the wins and losses always refer to player 1, and that we have to swap 1's and 2's in the q-table when we want to use it for player 2. We do the latter first."
   ]
  },
  {
   "cell_type": "code",
   "execution_count": 10,
   "id": "a76b7877",
   "metadata": {},
   "outputs": [],
   "source": [
    "boards1 = list(eval(b) for b in Q_table.keys())\n",
    "conv = {0: 0, 1: 2, 2: 1}\n",
    "boards2 = list(list(list(conv[el] for el in row) for row in board) for board in boards1)\n",
    "\n",
    "boards1_str = list(str(board) for board in boards1)\n",
    "boards2_str = list(str(board) for board in boards2)\n",
    "\n",
    "Q_table2 = {}\n",
    "for board in boards2_str:\n",
    "    Q_table2[board] = Q_table[boards1_str[boards2_str.index(board)]]"
   ]
  },
  {
   "cell_type": "code",
   "execution_count": 11,
   "id": "1f45e4ed",
   "metadata": {},
   "outputs": [
    {
     "name": "stdout",
     "output_type": "stream",
     "text": [
      "Two random players:\n",
      "Wins: 43403\n",
      "Draws: 12895\n",
      "Losses: 43702\n",
      "---------\n",
      "Trained AI as player 2 versus random opponent:\n",
      "Wins: 112\n",
      "Draws: 4364\n",
      "Losses: 95524\n",
      "---------\n",
      "Two trained AIs facing each other:\n",
      "Wins: 0\n",
      "Draws: 100000\n",
      "Losses: 0\n"
     ]
    }
   ],
   "source": [
    "print('Two random players:')\n",
    "\n",
    "win, draw, loss = test(number_games=int(1e5), player1_table=None, player2_table=None)\n",
    "\n",
    "print('Wins:', win)\n",
    "print('Draws:', draw)\n",
    "print('Losses:', loss)\n",
    "\n",
    "print('---------')\n",
    "print('Trained AI as player 2 versus random opponent:')\n",
    "\n",
    "win, draw, loss = test(number_games=int(1e5), player1_table=None, player2_table=Q_table2)\n",
    "\n",
    "print('Wins:', win)\n",
    "print('Draws:', draw)\n",
    "print('Losses:', loss)\n",
    "\n",
    "print('---------')\n",
    "print('Two trained AIs facing each other:')\n",
    "\n",
    "win, draw, loss = test(number_games=int(1e5), player1_table=Q_table, player2_table=Q_table2)\n",
    "\n",
    "print('Wins:', win)\n",
    "print('Draws:', draw)\n",
    "print('Losses:', loss)"
   ]
  }
 ],
 "metadata": {
  "kernelspec": {
   "display_name": "TestML",
   "language": "python",
   "name": "python3"
  },
  "language_info": {
   "codemirror_mode": {
    "name": "ipython",
    "version": 3
   },
   "file_extension": ".py",
   "mimetype": "text/x-python",
   "name": "python",
   "nbconvert_exporter": "python",
   "pygments_lexer": "ipython3",
   "version": "3.13.7"
  }
 },
 "nbformat": 4,
 "nbformat_minor": 5
}
